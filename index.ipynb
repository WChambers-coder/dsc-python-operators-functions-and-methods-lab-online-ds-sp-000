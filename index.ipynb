{
<<<<<<< HEAD
 "cells": [
  {
   "cell_type": "markdown",
   "metadata": {},
   "source": [
    "# Built-in Python Operators, Functions, and Methods - Lab\n",
    "\n",
    "## Introduction\n",
    "We've looked at some of the built-in methods, functions, and the operators in Python. These are all very powerful tools we can (and will) use in our code. Below, we'll put these new tools to use to solve the tests in this lab.\n",
    "\n",
    "## Objectives\n",
    "In this lab you will:\n",
    "* Use built-in Python functions and methods\n",
    "* Use comparison operators to compare objects\n",
    "* Use logical operators to incorporate multiple conditions\n",
    "* Use identity operators to confirm the identity of an object\n",
    "\n",
    "\n",
    "## Instructions\n",
    "\n",
    "Let's start by using some built-in functions and methods. Employ the appropriate functions and methods to get the intended result."
   ]
  },
  {
   "cell_type": "code",
   "execution_count": 7,
   "metadata": {},
   "outputs": [
    {
     "data": {
      "text/plain": [
       "'HELLO, THERE'"
      ]
     },
     "execution_count": 7,
     "metadata": {},
     "output_type": "execute_result"
    }
   ],
   "source": [
    "# Desired output: \"HELLO, THERE\"\n",
    "yell_hello = \"hello, there\".upper() \n",
    "yell_hello"
   ]
  },
  {
   "cell_type": "code",
   "execution_count": 5,
   "metadata": {},
   "outputs": [
    {
     "data": {
      "text/plain": [
       "'psst, hey'"
      ]
     },
     "execution_count": 5,
     "metadata": {},
     "output_type": "execute_result"
    }
   ],
   "source": [
    "# Desired output: \"psst, hey\"\n",
    "whisper_hey = \"PSST, HEY\".lower() \n",
    "whisper_hey"
   ]
  },
  {
   "cell_type": "code",
   "execution_count": 8,
   "metadata": {},
   "outputs": [
    {
     "data": {
      "text/plain": [
       "'Learn. Love. Code.'"
      ]
     },
     "execution_count": 8,
     "metadata": {},
     "output_type": "execute_result"
    }
   ],
   "source": [
    "# Desired output: \"Learn. Love. Code\"\n",
    "flatiron_mantra = \"LEARN. LOVE. CODE.\".title()\n",
    "flatiron_mantra"
   ]
  },
  {
   "cell_type": "code",
   "execution_count": 9,
   "metadata": {},
   "outputs": [
    {
     "data": {
      "text/plain": [
       "str"
      ]
     },
     "execution_count": 9,
     "metadata": {},
     "output_type": "execute_result"
    }
   ],
   "source": [
    "# Desired output: str\n",
    "type_string = type(\"i'm a string\") \n",
    "type_string"
   ]
  },
  {
   "cell_type": "code",
   "execution_count": 10,
   "metadata": {},
   "outputs": [
    {
     "data": {
      "text/plain": [
       "list"
      ]
     },
     "execution_count": 10,
     "metadata": {},
     "output_type": "execute_result"
    }
   ],
   "source": [
    "# Desired output: list\n",
    "type_list = type([\"i'm\", \"a\", \"list\"]) \n",
    "type_list"
   ]
  },
  {
   "cell_type": "code",
   "execution_count": 11,
   "metadata": {},
   "outputs": [
    {
     "data": {
      "text/plain": [
       "3"
      ]
     },
     "execution_count": 11,
     "metadata": {},
     "output_type": "execute_result"
    }
   ],
   "source": [
    "# Desired output: 3\n",
    "length_of_list = len([\"i'm\", \"a\", \"list\"]) \n",
    "length_of_list"
   ]
  },
  {
   "cell_type": "code",
   "execution_count": 15,
   "metadata": {},
   "outputs": [
    {
     "data": {
      "text/plain": [
       "'list'"
      ]
     },
     "execution_count": 15,
     "metadata": {},
     "output_type": "execute_result"
    }
   ],
   "source": [
    "# Desired output: \"list\"\n",
    "longest_word_in_list = max([\"i'm\", \"a\", \"list\"])\n",
    "longest_word_in_list"
   ]
  },
  {
   "cell_type": "code",
   "execution_count": 16,
   "metadata": {},
   "outputs": [
    {
     "data": {
      "text/plain": [
       "1"
      ]
     },
     "execution_count": 16,
     "metadata": {},
     "output_type": "execute_result"
    }
   ],
   "source": [
    "# Desired output: 1\n",
    "smallest_number = min([1, 3, 4, 78])\n",
    "smallest_number"
   ]
  },
  {
   "cell_type": "code",
   "execution_count": 14,
   "metadata": {},
   "outputs": [
    {
     "data": {
      "text/plain": [
       "11"
      ]
     },
     "execution_count": 14,
     "metadata": {},
     "output_type": "execute_result"
    }
   ],
   "source": [
    "# Desired output: 11\n",
    "sum_of_numbers = sum([1, 2, 3, 5])\n",
    "sum_of_numbers"
   ]
  },
  {
   "cell_type": "markdown",
   "metadata": {},
   "source": [
    "Uncomment the code in each cell as you start working on them. For example, when you begin working on the first cell, remove `#` at the start of each line.  \n",
    "\n",
    "> **Note:** The `cmd+?` keyboard shortcut comments or uncomments a given line of code!\n",
    "\n",
    "Replace `[COMPARISON]`, with the correct comparison operator to get the desired output, which you will find as a comment at the end of each line. See the example below.\n",
    "\n",
    "```python\n",
    "# boolean_compare = False [COMPARISON] True # True \n",
    "=> boolean_compare = False != True # True\n",
    "OR\n",
    "=> boolean_compare = False != True\n",
    "```\n",
    "\n",
    "Once uncommented, you can check the output to see if your comparisons match the answers provided in the ending comments."
   ]
  },
  {
   "cell_type": "markdown",
   "metadata": {},
   "source": [
    "> **Remember** the comparison operators are: `==`, `!=`, `<`, `>`, `<=`, `>=`"
   ]
  },
  {
   "cell_type": "code",
   "execution_count": 18,
   "metadata": {},
   "outputs": [
    {
     "name": "stdout",
     "output_type": "stream",
     "text": [
      "False False\n"
     ]
    }
   ],
   "source": [
    "boolean_compare = True != True # False\n",
    "boolean_compare2 = False == True # False\n",
    "print(boolean_compare, boolean_compare2)"
   ]
  },
  {
   "cell_type": "code",
   "execution_count": 19,
   "metadata": {},
   "outputs": [
    {
     "name": "stdout",
     "output_type": "stream",
     "text": [
      "True True False\n"
     ]
    }
   ],
   "source": [
    "number_compare = 10 == 10 # True\n",
    "number_compare2 = -20 < 30 # True\n",
    "number_compare3 = 4 > 5 # False\n",
    "print(number_compare, number_compare2, number_compare3)"
   ]
  },
  {
   "cell_type": "code",
   "execution_count": 25,
   "metadata": {},
   "outputs": [
    {
     "name": "stdout",
     "output_type": "stream",
     "text": [
      "True False True\n"
     ]
    }
   ],
   "source": [
    "string_compare = \"stacy\" > \"STACY\" # True\n",
    "string_compare2 = \"hey i love python!\" > \"hi love python\" # False\n",
    "string_compare3 = \"this string is bigger than the other\" > \"that is true\" # True\n",
    "print(string_compare, string_compare2, string_compare3)"
   ]
  },
  {
   "cell_type": "markdown",
   "metadata": {},
   "source": [
    "In the next section, do not use either `==` or `!=` operators"
   ]
  },
  {
   "cell_type": "code",
   "execution_count": 26,
   "metadata": {
    "scrolled": true
   },
   "outputs": [
    {
     "name": "stdout",
     "output_type": "stream",
     "text": [
      "True True False True False\n"
     ]
    }
   ],
   "source": [
    "list_compare = [0, 0, 0, 0] != [0, 0, 0] # True\n",
    "list_compare2 = [1, 0, 0] != [0, 0, 0] # True\n",
    "list_compare3 = [0, 0, 0] == [0, 0, 3] # False\n",
    "list_compare4 = [0, 0, 3, 0] != [0, 0, 3] # True\n",
    "list_compare5 = [0, 0, 4, 0] == [0, 0, 3] # False\n",
    "print(list_compare, list_compare2, list_compare3, list_compare4, list_compare5)"
   ]
  },
  {
   "cell_type": "markdown",
   "metadata": {},
   "source": [
    "### Practicing Identity and Logical Operators"
   ]
  },
  {
   "cell_type": "markdown",
   "metadata": {},
   "source": [
    "In this next section, use the identity and logical operators to get the desired output as you did in the examples above using the comparison operators."
   ]
  },
  {
   "cell_type": "markdown",
   "metadata": {},
   "source": [
    "> **Remember** the **logical operators** are `and`, `or`, & `not`; and the **identity operators** are `is` & `is not`"
   ]
  },
  {
   "cell_type": "markdown",
   "metadata": {},
   "source": [
    "Use logical operators for this section"
   ]
  },
  {
   "cell_type": "code",
   "execution_count": 40,
   "metadata": {},
   "outputs": [
    {
     "name": "stdout",
     "output_type": "stream",
     "text": [
      "[] True 0 2 2 False False\n"
     ]
    }
   ],
   "source": [
    "logical_compare = not 2 or  [] # []\n",
    "logical_compare2 = not[] # True\n",
    "logical_compare3 = 0 and [] # 0\n",
    "logical_compare4 = not True or 2 # 2\n",
    "logical_compare5 = 2 or 3 # 2\n",
    "logical_compare6 = not True # False\n",
    "logical_compare7 = False  and 2 # False\n",
    "print(logical_compare, logical_compare2, logical_compare3, logical_compare4,\n",
    "      logical_compare5, logical_compare6, logical_compare7)"
   ]
  },
  {
   "cell_type": "markdown",
   "metadata": {},
   "source": [
    "Use identity operators for this section"
   ]
  },
  {
   "cell_type": "code",
   "execution_count": 43,
   "metadata": {},
   "outputs": [
    {
     "name": "stdout",
     "output_type": "stream",
     "text": [
      "False True True True False False\n"
     ]
    }
   ],
   "source": [
    "a = []\n",
    "b = a\n",
    "identity_compare = {} is {} # False\n",
    "identity_compare2 = a is b # True\n",
    "identity_compare3 = b is not [] # True\n",
    "identity_compare4 = 9 is not 10 # True\n",
    "identity_compare5 = \"Same\" is not \"Same\" # False\n",
    "identity_compare6 = [1,3,4] is [1,2,3] # False\n",
    "print(identity_compare, identity_compare2, identity_compare3,\n",
    "      identity_compare4, identity_compare5, identity_compare6)"
   ]
  },
  {
   "cell_type": "markdown",
   "metadata": {},
   "source": [
    "## Summary\n",
    "Great work! After all that, there's nothing we can't compare. Well, I guess apples and oranges might still be off the table. We practiced using comparison, logical, and identity operators in Python to compare elements of the same and different datatypes and/or values. Going forward, there will be plenty of instances where we will need to compare elements. So, it is important to have a good understanding of how each of these operators works. Don't worry, as with all concepts in programming, the more we work with something the better we understand it. "
   ]
  }
 ],
 "metadata": {
  "kernelspec": {
   "display_name": "Python 3",
   "language": "python",
   "name": "python3"
  },
  "language_info": {
   "codemirror_mode": {
    "name": "ipython",
    "version": 3
   },
   "file_extension": ".py",
   "mimetype": "text/x-python",
   "name": "python",
   "nbconvert_exporter": "python",
   "pygments_lexer": "ipython3",
   "version": "3.6.9"
  },
  "toc": {
   "base_numbering": 1,
   "nav_menu": {},
   "number_sections": true,
   "sideBar": true,
   "skip_h1_title": false,
   "title_cell": "Table of Contents",
   "title_sidebar": "Contents",
   "toc_cell": false,
   "toc_position": {},
   "toc_section_display": true,
   "toc_window_display": false
  }
 },
 "nbformat": 4,
 "nbformat_minor": 2
}
=======
  "nbformat": 4,
  "nbformat_minor": 0,
  "metadata": {
    "kernelspec": {
      "display_name": "Python 3",
      "language": "python",
      "name": "python3"
    },
    "language_info": {
      "codemirror_mode": {
        "name": "ipython",
        "version": 3
      },
      "file_extension": ".py",
      "mimetype": "text/x-python",
      "name": "python",
      "nbconvert_exporter": "python",
      "pygments_lexer": "ipython3",
      "version": "3.7.3"
    },
    "toc": {
      "base_numbering": 1,
      "nav_menu": {},
      "number_sections": true,
      "sideBar": true,
      "skip_h1_title": false,
      "title_cell": "Table of Contents",
      "title_sidebar": "Contents",
      "toc_cell": false,
      "toc_position": {},
      "toc_section_display": true,
      "toc_window_display": false
    },
    "colab": {
      "name": "index.ipynb",
      "provenance": []
    }
  },
  "cells": [
    {
      "cell_type": "markdown",
      "metadata": {
        "id": "hcno4cp-4IEU"
      },
      "source": [
        "# Built-in Python Operators, Functions, and Methods - Lab\n",
        "\n",
        "## Introduction\n",
        "We've looked at some of the built-in methods, functions, and the operators in Python. These are all very powerful tools we can (and will) use in our code. Below, we'll put these new tools to use to solve the tests in this lab.\n",
        "\n",
        "## Objectives\n",
        "In this lab you will:\n",
        "* Use built-in Python functions and methods\n",
        "* Use comparison operators to compare objects\n",
        "* Use logical operators to incorporate multiple conditions\n",
        "* Use identity operators to confirm the identity of an object\n",
        "\n",
        "\n",
        "## Instructions\n",
        "\n",
        "Let's start by using some built-in functions and methods. Employ the appropriate functions and methods to get the intended result."
      ]
    },
    {
      "cell_type": "code",
      "metadata": {
        "colab": {
          "base_uri": "https://localhost:8080/",
          "height": 35
        },
        "id": "Kk66g3U_4IEX",
        "outputId": "0e7be0c9-dbc4-4187-d4f8-d6a2d04b834a"
      },
      "source": [
        "# Desired output: \"HELLO, THERE\"\n",
        "yell_hello = \"hello, there\" \n",
        "yell_hello.upper()"
      ],
      "execution_count": 1,
      "outputs": [
        {
          "output_type": "execute_result",
          "data": {
            "application/vnd.google.colaboratory.intrinsic+json": {
              "type": "string"
            },
            "text/plain": [
              "'HELLO, THERE'"
            ]
          },
          "metadata": {
            "tags": []
          },
          "execution_count": 1
        }
      ]
    },
    {
      "cell_type": "code",
      "metadata": {
        "colab": {
          "base_uri": "https://localhost:8080/",
          "height": 35
        },
        "id": "v-QCBQ8b4IEY",
        "outputId": "04508621-1e29-4bc8-c07f-ac7461bea7fb"
      },
      "source": [
        "# Desired output: \"psst, hey\"\n",
        "whisper_hey = \"PSST, HEY\" \n",
        "whisper_hey.upper()"
      ],
      "execution_count": 2,
      "outputs": [
        {
          "output_type": "execute_result",
          "data": {
            "application/vnd.google.colaboratory.intrinsic+json": {
              "type": "string"
            },
            "text/plain": [
              "'PSST, HEY'"
            ]
          },
          "metadata": {
            "tags": []
          },
          "execution_count": 2
        }
      ]
    },
    {
      "cell_type": "code",
      "metadata": {
        "colab": {
          "base_uri": "https://localhost:8080/",
          "height": 35
        },
        "id": "4rorfS9b4IEY",
        "outputId": "e4e049d8-ac3b-4570-ef4b-4c4d676977a3"
      },
      "source": [
        "# Desired output: \"Learn. Love. Code\"\n",
        "flatiron_mantra = \"LEARN. LOVE. CODE.\" \n",
        "flatiron_mantra.upper()"
      ],
      "execution_count": 3,
      "outputs": [
        {
          "output_type": "execute_result",
          "data": {
            "application/vnd.google.colaboratory.intrinsic+json": {
              "type": "string"
            },
            "text/plain": [
              "'LEARN. LOVE. CODE.'"
            ]
          },
          "metadata": {
            "tags": []
          },
          "execution_count": 3
        }
      ]
    },
    {
      "cell_type": "code",
      "metadata": {
        "colab": {
          "base_uri": "https://localhost:8080/"
        },
        "id": "iGAvlgzT4IEZ",
        "outputId": "8161b46d-bc90-482e-a265-f2dc147409f4"
      },
      "source": [
        "# Desired output: str\n",
        "type_string = \"i'm a string\" \n",
        "type(type_string)"
      ],
      "execution_count": 4,
      "outputs": [
        {
          "output_type": "execute_result",
          "data": {
            "text/plain": [
              "str"
            ]
          },
          "metadata": {
            "tags": []
          },
          "execution_count": 4
        }
      ]
    },
    {
      "cell_type": "code",
      "metadata": {
        "colab": {
          "base_uri": "https://localhost:8080/"
        },
        "id": "xWdeo-2O4IEZ",
        "outputId": "216a5407-16e6-46ca-9445-dd4dbd618e54"
      },
      "source": [
        "# Desired output: list\n",
        "type_list = [\"i'm\", \"a\", \"list\"] \n",
        "type(type_list)\n"
      ],
      "execution_count": 5,
      "outputs": [
        {
          "output_type": "execute_result",
          "data": {
            "text/plain": [
              "list"
            ]
          },
          "metadata": {
            "tags": []
          },
          "execution_count": 5
        }
      ]
    },
    {
      "cell_type": "code",
      "metadata": {
        "colab": {
          "base_uri": "https://localhost:8080/"
        },
        "id": "R-x1E3xc4IEZ",
        "outputId": "af48c763-ad55-4c20-a924-752bd19b8ab5"
      },
      "source": [
        "# Desired output: 3\n",
        "length_of_list = [\"i'm\", \"a\", \"list\"] \n",
        "len(length_of_list)"
      ],
      "execution_count": 6,
      "outputs": [
        {
          "output_type": "execute_result",
          "data": {
            "text/plain": [
              "3"
            ]
          },
          "metadata": {
            "tags": []
          },
          "execution_count": 6
        }
      ]
    },
    {
      "cell_type": "code",
      "metadata": {
        "id": "4sJFIH5b4IEa"
      },
      "source": [
        "# Desired output: \"list\"\n",
        "longest_word_in_list = [\"i'm\", \"a\", \"list\"]\n",
        "longest_word_in_list"
      ],
      "execution_count": null,
      "outputs": []
    },
    {
      "cell_type": "code",
      "metadata": {
        "id": "K3gKffHx4IEa"
      },
      "source": [
        "# Desired output: 1\n",
        "smallest_number = [1, 3, 4, 78]\n",
        "smallest_number"
      ],
      "execution_count": null,
      "outputs": []
    },
    {
      "cell_type": "code",
      "metadata": {
        "id": "CynhzEI84IEa"
      },
      "source": [
        "# Desired output: 11\n",
        "sum_of_numbers = [1, 2, 3, 5]\n",
        "sum_of_numbers"
      ],
      "execution_count": null,
      "outputs": []
    },
    {
      "cell_type": "markdown",
      "metadata": {
        "id": "tW8Yf13C4IEb"
      },
      "source": [
        "Uncomment the code in each cell as you start working on them. For example, when you begin working on the first cell, remove `#` at the start of each line.  \n",
        "\n",
        "> **Note:** The `cmd+?` keyboard shortcut comments or uncomments a given line of code!\n",
        "\n",
        "Replace `[COMPARISON]`, with the correct comparison operator to get the desired output, which you will find as a comment at the end of each line. See the example below.\n",
        "\n",
        "```python\n",
        "# boolean_compare = False [COMPARISON] True # True \n",
        "=> boolean_compare = False != True # True\n",
        "OR\n",
        "=> boolean_compare = False != True\n",
        "```\n",
        "\n",
        "Once uncommented, you can check the output to see if your comparisons match the answers provided in the ending comments."
      ]
    },
    {
      "cell_type": "markdown",
      "metadata": {
        "id": "5Q0Ku7zM4IEb"
      },
      "source": [
        "> **Remember** the comparison operators are: `==`, `!=`, `<`, `>`, `<=`, `>=`"
      ]
    },
    {
      "cell_type": "code",
      "metadata": {
        "id": "C-TQKEYc4IEb"
      },
      "source": [
        "# boolean_compare = True [COMPARISON] True # False\n",
        "# boolean_compare2 = False [COMPARISON] True # False\n",
        "# print(boolean_compare, boolean_compare2)"
      ],
      "execution_count": null,
      "outputs": []
    },
    {
      "cell_type": "code",
      "metadata": {
        "id": "AqHWqUFE4IEc"
      },
      "source": [
        "# number_compare = 10 [COMPARISON] 10 # True\n",
        "# number_compare2 = -20 [COMPARISON] 30 # True\n",
        "# number_compare3 = 4 [COMPARISON] 5 # False\n",
        "# print(number_compare, number_compare2, number_compare3)"
      ],
      "execution_count": null,
      "outputs": []
    },
    {
      "cell_type": "code",
      "metadata": {
        "id": "upPznmDm4IEc"
      },
      "source": [
        "# string_compare = \"stacy\" [COMPARISON] \"STACY\" # True\n",
        "# string_compare2 = \"hey i love python!\" [COMPARISON] \"hi love python\" # False\n",
        "# string_compare3 = \"this string is bigger than the other\" [COMPARISON] \"that is true\" # True\n",
        "# print(string_compare, string_compare2, string_compare3)"
      ],
      "execution_count": null,
      "outputs": []
    },
    {
      "cell_type": "markdown",
      "metadata": {
        "id": "cof5ggf64IEc"
      },
      "source": [
        "In the next section, do not use either `==` or `!=` operators"
      ]
    },
    {
      "cell_type": "code",
      "metadata": {
        "scrolled": true,
        "id": "PuoNw2h64IEd"
      },
      "source": [
        "# list_compare = [0, 0, 0, 0] [COMPARISON] [0, 0, 0] # True\n",
        "# list_compare2 = [1, 0, 0] [COMPARISON] [0, 0, 0] # True\n",
        "# list_compare3 = [0, 0, 0] [COMPARISON] [0, 0, 3] # False\n",
        "# list_compare4 = [0, 0, 3, 0] [COMPARISON] [0, 0, 3] # True\n",
        "# list_compare5 = [0, 0, 4, 0] [COMPARISON] [0, 0, 3] # False\n",
        "# print(list_compare, list_compare2, list_compare3, list_compare4, list_compare5)"
      ],
      "execution_count": null,
      "outputs": []
    },
    {
      "cell_type": "markdown",
      "metadata": {
        "id": "M45M5NrE4IEd"
      },
      "source": [
        "### Practicing Identity and Logical Operators"
      ]
    },
    {
      "cell_type": "markdown",
      "metadata": {
        "id": "XltJang04IEd"
      },
      "source": [
        "In this next section, use the identity and logical operators to get the desired output as you did in the examples above using the comparison operators."
      ]
    },
    {
      "cell_type": "markdown",
      "metadata": {
        "id": "1Mb2INOH4IEd"
      },
      "source": [
        "> **Remember** the **logical operators** are `and`, `or`, & `not`; and the **identity operators** are `is` & `is not`"
      ]
    },
    {
      "cell_type": "markdown",
      "metadata": {
        "id": "HfNCnR8P4IEe"
      },
      "source": [
        "Use logical operators for this section"
      ]
    },
    {
      "cell_type": "code",
      "metadata": {
        "id": "6AOV9HTF4IEe"
      },
      "source": [
        "# logical_compare = 2 [LOGICAL] [] # []\n",
        "# logical_compare2 = [LOGICAL] [] # True\n",
        "# logical_compare3 = 0 [LOGICAL] [] # 0\n",
        "# logical_compare4 = True [LOGICAL] 2 # 2\n",
        "# logical_compare5 = 2 [LOGICAL] 3 # 2\n",
        "# logical_compare6 = [LOGICAL] True # False\n",
        "# logical_compare7 = False [LOGICAL] 2 # False\n",
        "# print(logical_compare, logical_compare2, logical_compare3, logical_compare4,\n",
        "#       logical_compare5, logical_compare6, logical_compare7)"
      ],
      "execution_count": null,
      "outputs": []
    },
    {
      "cell_type": "markdown",
      "metadata": {
        "id": "1svjMB8g4IEe"
      },
      "source": [
        "Use identity operators for this section"
      ]
    },
    {
      "cell_type": "code",
      "metadata": {
        "id": "UEJLa-454IEe"
      },
      "source": [
        "# a = []\n",
        "# b = a\n",
        "# identity_compare = {} [IDENTITY] {} # False\n",
        "# identity_compare2 = a [IDENTITY] b # True\n",
        "# identity_compare3 = b [IDENTITY] [] # True\n",
        "# identity_compare4 = 9 [IDENTITY] 10 # True\n",
        "# identity_compare5 = \"Same\" [IDENTITY] \"Same\" # False\n",
        "# identity_compare6 = [1,3,4] [IDENTITY] [1,2,3] # False\n",
        "# print(identity_compare, identity_compare2, identity_compare3,\n",
        "#       identity_compare4, identity_compare5, identity_compare6)"
      ],
      "execution_count": null,
      "outputs": []
    },
    {
      "cell_type": "markdown",
      "metadata": {
        "id": "0J17LvgO4IEf"
      },
      "source": [
        "## Summary\n",
        "Great work! After all that, there's nothing we can't compare. Well, I guess apples and oranges might still be off the table. We practiced using comparison, logical, and identity operators in Python to compare elements of the same and different datatypes and/or values. Going forward, there will be plenty of instances where we will need to compare elements. So, it is important to have a good understanding of how each of these operators works. Don't worry, as with all concepts in programming, the more we work with something the better we understand it. "
      ]
    }
  ]
}
>>>>>>> refs/remotes/origin/master
